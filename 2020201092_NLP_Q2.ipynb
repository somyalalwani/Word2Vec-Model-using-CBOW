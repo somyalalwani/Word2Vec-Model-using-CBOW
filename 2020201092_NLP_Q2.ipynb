{
 "cells": [
  {
   "cell_type": "markdown",
   "metadata": {
    "id": "iCsItooOjFTj"
   },
   "source": [
    "# **Implement the Word2vec model and train your own word vectors using CBOW model.**"
   ]
  },
  {
   "cell_type": "markdown",
   "metadata": {
    "id": "xBp9VunSjQfC"
   },
   "source": [
    "## IMPORTING LIBRARIES\n"
   ]
  },
  {
   "cell_type": "code",
   "execution_count": null,
   "metadata": {
    "colab": {
     "base_uri": "https://localhost:8080/"
    },
    "id": "16I8eEaijTBR",
    "outputId": "ce151211-a4fc-4d86-d2d2-16a53f964667"
   },
   "outputs": [
    {
     "name": "stdout",
     "output_type": "stream",
     "text": [
      "Mounted at /content/drive\n",
      "[nltk_data] Downloading package punkt to /root/nltk_data...\n",
      "[nltk_data]   Unzipping tokenizers/punkt.zip.\n"
     ]
    }
   ],
   "source": [
    "import gzip\n",
    "import shutil\n",
    "\n",
    "from google.colab import drive\n",
    "drive.mount('/content/drive')\n",
    "\n",
    "import json\n",
    "import ast\n",
    "\n",
    "import re\n",
    "import nltk\n",
    "nltk.download('punkt')\n",
    "\n",
    "import math\n",
    "import numpy as np\n",
    "\n",
    "from keras.preprocessing.text import Tokenizer\n",
    "from scipy import spatial\n",
    "from heapq import nlargest\n",
    "import gensim.downloader\n",
    "from sklearn.manifold import TSNE\n",
    "import matplotlib.pyplot as plt\n",
    "import gensim.downloader"
   ]
  },
  {
   "cell_type": "markdown",
   "metadata": {
    "id": "ugrOxZAkjT7E"
   },
   "source": [
    "## GET DATA"
   ]
  },
  {
   "cell_type": "code",
   "execution_count": null,
   "metadata": {
    "id": "_uwPpvbFjUin"
   },
   "outputs": [],
   "source": [
    "def get_data():    \n",
    "  with gzip.open('drive/MyDrive/reviews_Electronics_5.json.gz', 'rb') as f_in:\n",
    "      with open('Electronics_5.json', 'wb') as f_out:\n",
    "          shutil.copyfileobj(f_in, f_out)\n",
    "  raw_text=[]\n",
    "\n",
    "  f = open('Electronics_5.json',)\n",
    "\n",
    "  for line in f:\n",
    "    res = ast.literal_eval(line)\n",
    "    raw_text.append(res[\"reviewText\"].lower())\n",
    "\n",
    "  f.close()\n",
    "  return raw_text"
   ]
  },
  {
   "cell_type": "code",
   "execution_count": null,
   "metadata": {
    "id": "zcyzq3csspkE"
   },
   "outputs": [],
   "source": [
    "raw_text = get_data()"
   ]
  },
  {
   "cell_type": "code",
   "execution_count": null,
   "metadata": {
    "colab": {
     "base_uri": "https://localhost:8080/"
    },
    "id": "3AF_CSek40eA",
    "outputId": "b4968741-04b7-48fa-cd25-719e6f975eea"
   },
   "outputs": [
    {
     "name": "stdout",
     "output_type": "stream",
     "text": [
      "we got this gps for my husband who is an (otr) over the road trucker.  very impressed with the shipping time, it arrived a few days earlier than expected...  within a week of use however it started freezing up... could of just been a glitch in that unit.  worked great when it worked!  will work great for the normal person as well but does have the \"trucker\" option. (the big truck routes - tells you when a scale is coming up ect...)  love the bigger screen, the ease of use, the ease of putting addresses into memory.  nothing really bad to say about the unit with the exception of it freezing which is probably one in a million and that's just my luck.  i contacted the seller and within minutes of my email i received a email back with instructions for an exchange! very impressed all the way around!\n",
      "1689188\n"
     ]
    }
   ],
   "source": [
    "print(raw_text[0])\n",
    "print(len(raw_text))\n"
   ]
  },
  {
   "cell_type": "code",
   "execution_count": null,
   "metadata": {
    "id": "Qgr7S0bTyrOF"
   },
   "outputs": [],
   "source": [
    "import os\n",
    "os.remove(\"Electronics_5.json\")"
   ]
  },
  {
   "cell_type": "markdown",
   "metadata": {
    "id": "QLx93alp4w-H"
   },
   "source": [
    "## PRE-PROCESSING DATA"
   ]
  },
  {
   "cell_type": "markdown",
   "metadata": {
    "id": "4N9UrrsRn1Ci"
   },
   "source": [
    "reviews to good data  - in sentence_file.txt\n",
    "1. just sentences with words..no punctuations\n",
    "2. returns count of total words present\n",
    "3. returns dictionary"
   ]
  },
  {
   "cell_type": "code",
   "execution_count": null,
   "metadata": {
    "id": "r4zx1BuiDNyn"
   },
   "outputs": [],
   "source": [
    "def raw_text_to_sentences(raw_text):\n",
    "  d={}\n",
    "  word_count=1\n",
    "  f= open(\"sentence_file.txt\",\"x\")\n",
    "  f.close()\n",
    "  f = open(\"sentence_file.txt\",\"w\" )\n",
    "  for para in raw_text:\n",
    "    nltk_tokens = nltk.sent_tokenize(para)\n",
    "    for words in nltk_tokens:\n",
    "      sent = re.findall(\"[A-Za-z]+\", words)\n",
    "      line = \"\"\n",
    "      for word in sent:\n",
    "        line = line + ' ' + word.lower()\n",
    "        word_count+=1\n",
    "        try:\n",
    "            d[word.lower()] += 1\n",
    "        except KeyError:\n",
    "            d[word.lower()] = 1\n",
    "      f.write(line)\n",
    "      f.write(\"\\n\")\n",
    "  f.close()\n",
    "  return d,word_count"
   ]
  },
  {
   "cell_type": "code",
   "execution_count": null,
   "metadata": {
    "id": "PgWXXrt68jut"
   },
   "outputs": [],
   "source": [
    "def remove_infrequent_words(d,n,xx):\n",
    "  less_freq_word=0\n",
    "  f = open(\"sentence_file.txt\", \"r\")\n",
    "  lines = f.readlines()\n",
    "  no_of_lines = len(lines)\n",
    "\n",
    "  for i in range(no_of_lines):\n",
    "    x=\"\"\n",
    "    words=lines[i].split()\n",
    "    for word in words:\n",
    "      try:\n",
    "        if d[word]>n and d[word]<xx:\n",
    "          x= x + ' ' + word\n",
    "        else :\n",
    "          less_freq_word+=1\n",
    "      except Keyerror:\n",
    "        pass\n",
    "    lines[i] = x + \"\\n\"\n",
    "\n",
    "  f = open(\"sentence_file.txt\", \"w\")\n",
    "  f.writelines(lines)\n",
    "  f.close()\n",
    "  return less_freq_word\n"
   ]
  },
  {
   "cell_type": "markdown",
   "metadata": {
    "id": "CKCdUDQio0hp"
   },
   "source": [
    "removed words with frequency less than 5 - updates in sentence_file.txt\n",
    "1. returns no of words removed"
   ]
  },
  {
   "cell_type": "code",
   "execution_count": null,
   "metadata": {
    "id": "xA0i4GL8ahRI"
   },
   "outputs": [],
   "source": [
    "\n",
    "def sub_sampling(count_dictionary):\n",
    "  removed_words = 0\n",
    "  f = open(\"sentence_file.txt\", \"r\")\n",
    "  lines = f.readlines()\n",
    "  no_of_lines = len(lines)\n",
    "  total_words = len(count_dictionary)\n",
    "  for i in range(no_of_lines):\n",
    "    x=\"\"\n",
    "    words=lines[i].split()\n",
    "    for word in words:\n",
    "      frac = (count_dictionary[word]/ total_words)/0.001\n",
    "      prob = (math.sqrt(frac) + 1) * (0.001/frac)\n",
    "      if np.random.random() < prob:\n",
    "          x= x + ' ' + word\n",
    "      else :\n",
    "        removed_words += 1\n",
    "    lines[i] = x + \"\\n\"\n",
    "\n",
    "  f = open(\"sentence_file.txt\", \"w\")\n",
    "  f.writelines(lines)\n",
    "  f.close()\n",
    "  return removed_words"
   ]
  },
  {
   "cell_type": "code",
   "execution_count": null,
   "metadata": {
    "id": "_zUf21yGLwZU"
   },
   "outputs": [],
   "source": [
    "count_dictionary, word_count = raw_text_to_sentences(raw_text)"
   ]
  },
  {
   "cell_type": "code",
   "execution_count": null,
   "metadata": {
    "id": "FJxgxl1bzZ8c"
   },
   "outputs": [],
   "source": [
    "del raw_text"
   ]
  },
  {
   "cell_type": "code",
   "execution_count": null,
   "metadata": {
    "id": "GcU5x5i82uoE"
   },
   "outputs": [],
   "source": [
    "from operator import itemgetter\n",
    "import operator\n",
    "d= dict(sorted(count_dictionary.items(), key = itemgetter(1), reverse = True)[:50])\n",
    "xx = min(d.values())"
   ]
  },
  {
   "cell_type": "code",
   "execution_count": null,
   "metadata": {
    "id": "CPmTIP9O8YJi"
   },
   "outputs": [],
   "source": [
    "less_freq_word = remove_infrequent_words(count_dictionary,5,xx)"
   ]
  },
  {
   "cell_type": "code",
   "execution_count": null,
   "metadata": {
    "colab": {
     "base_uri": "https://localhost:8080/"
    },
    "id": "0AiExxRzE3Jn",
    "outputId": "9b8ce0cf-1fa6-45c8-f2bf-c5b9e0dada92"
   },
   "outputs": [
    {
     "name": "stdout",
     "output_type": "stream",
     "text": [
      "200736572\n"
     ]
    }
   ],
   "source": [
    "print(word_count)"
   ]
  },
  {
   "cell_type": "code",
   "execution_count": null,
   "metadata": {
    "id": "wHFRAeMldCeD"
   },
   "outputs": [],
   "source": [
    "removed_words_from_subsampling = sub_sampling(count_dictionary)"
   ]
  },
  {
   "cell_type": "code",
   "execution_count": null,
   "metadata": {
    "colab": {
     "base_uri": "https://localhost:8080/"
    },
    "id": "cNkcmPG376Tv",
    "outputId": "9020e253-43b1-44f4-f222-278f8970e0a0"
   },
   "outputs": [
    {
     "data": {
      "text/plain": [
       "110319171"
      ]
     },
     "execution_count": 20,
     "metadata": {},
     "output_type": "execute_result"
    }
   ],
   "source": [
    "removed_words_from_subsampling"
   ]
  },
  {
   "cell_type": "code",
   "execution_count": null,
   "metadata": {
    "colab": {
     "base_uri": "https://localhost:8080/"
    },
    "id": "68xAvT1B95p8",
    "outputId": "390e8290-1b59-41e5-ce9f-54980385a10b"
   },
   "outputs": [
    {
     "data": {
      "text/plain": [
       "90417401"
      ]
     },
     "execution_count": 21,
     "metadata": {},
     "output_type": "execute_result"
    }
   ],
   "source": [
    "word_count - removed_words_from_subsampling"
   ]
  },
  {
   "cell_type": "code",
   "execution_count": null,
   "metadata": {
    "colab": {
     "base_uri": "https://localhost:8080/"
    },
    "id": "pdKbMaEhy41-",
    "outputId": "66269e6a-ab39-45bb-e2bb-c7efce2b5eed"
   },
   "outputs": [
    {
     "name": "stdout",
     "output_type": "stream",
     "text": [
      "This is the number of lines in the file\n",
      "10298912\n"
     ]
    }
   ],
   "source": [
    "file = open(\"sentence_file.txt\",\"r\")\n",
    "Counter = 0\n",
    "Content = file.read()\n",
    "CoList = Content.split(\"\\n\")\n",
    "  \n",
    "for i in CoList:\n",
    "    if i:\n",
    "        Counter += 1\n",
    "          \n",
    "print(\"This is the number of lines in the file\")\n",
    "print(Counter)\n",
    "file.close()"
   ]
  },
  {
   "cell_type": "markdown",
   "metadata": {
    "id": "-aCemt8V4iZA"
   },
   "source": [
    "## CREATING VOCAB"
   ]
  },
  {
   "cell_type": "code",
   "execution_count": null,
   "metadata": {
    "id": "gDXUNd-nyc_J"
   },
   "outputs": [],
   "source": [
    "f = open(\"sentence_file.txt\", \"r\")\n",
    "lines = f.readlines()\n",
    "f.close()\n",
    "\n",
    "\n",
    "tokenizer=Tokenizer()\n",
    "\n",
    "tokenizer.fit_on_texts(lines) #updating internal vocabulary based on a list of texts.\n",
    "\n",
    "word_to_index = tokenizer.word_index # assigning indexes to words\n",
    "vocab_length = len(word_to_index)\n",
    "\n",
    "index_to_words = {}    # assigning words to indexes\n",
    "for k,v in word_to_index.items():\n",
    "  index_to_words[v] = k\n"
   ]
  },
  {
   "cell_type": "code",
   "execution_count": null,
   "metadata": {
    "colab": {
     "base_uri": "https://localhost:8080/"
    },
    "id": "FD_-ZH9irTjk",
    "outputId": "153c21d2-ae4f-49fd-f2ce-ee5903e18588"
   },
   "outputs": [
    {
     "name": "stdout",
     "output_type": "stream",
     "text": [
      " we got gps husband who otr over road trucker\n",
      "70686\n"
     ]
    }
   ],
   "source": [
    "print(lines[0][:-1])\n",
    "print(vocab_length)"
   ]
  },
  {
   "cell_type": "code",
   "execution_count": null,
   "metadata": {
    "colab": {
     "base_uri": "https://localhost:8080/"
    },
    "id": "NsI34LPIsv8b",
    "outputId": "d28defd4-a83d-426c-b39c-03a2d0c26f40"
   },
   "outputs": [
    {
     "name": "stdout",
     "output_type": "stream",
     "text": [
      "{'a': 1, 'the': 2, 'it': 3, 'of': 4, 'we': 5, 'got': 6, 'this': 7, 'gps': 8, 'for': 9, 'my': 10, 'husband': 11, 'who': 12, 'is': 13, 'an': 14, 'otr': 15, 'over': 16, 'road': 17, 'trucker': 18, 'very': 19, 'impressed': 20, 'with': 21, 'shipping': 22, 'time': 23, 'arrived': 24, 'few': 25, 'days': 26, 'earlier': 27, 'than': 28, 'expected': 29, 'within': 30, 'week': 31, 'use': 32, 'however': 33, 'started': 34, 'freezing': 35, 'up': 36, 'could': 37, 'just': 38, 'been': 39, 'glitch': 40, 'in': 41, 'that': 42, 'unit': 43}\n",
      "43\n",
      "{1: 'a', 2: 'the', 3: 'it', 4: 'of', 5: 'we', 6: 'got', 7: 'this', 8: 'gps', 9: 'for', 10: 'my', 11: 'husband', 12: 'who', 13: 'is', 14: 'an', 15: 'otr', 16: 'over', 17: 'road', 18: 'trucker', 19: 'very', 20: 'impressed', 21: 'with', 22: 'shipping', 23: 'time', 24: 'arrived', 25: 'few', 26: 'days', 27: 'earlier', 28: 'than', 29: 'expected', 30: 'within', 31: 'week', 32: 'use', 33: 'however', 34: 'started', 35: 'freezing', 36: 'up', 37: 'could', 38: 'just', 39: 'been', 40: 'glitch', 41: 'in', 42: 'that', 43: 'unit'}\n"
     ]
    }
   ],
   "source": [
    "#print(word_to_index)\n",
    "\n",
    "#print(index_to_words)"
   ]
  },
  {
   "cell_type": "markdown",
   "metadata": {
    "id": "FvmjZmie4tJe"
   },
   "source": [
    "## CBOW MODEL"
   ]
  },
  {
   "cell_type": "code",
   "execution_count": null,
   "metadata": {
    "id": "G6UYqqSs_t3I"
   },
   "outputs": [],
   "source": [
    "from keras.preprocessing import sequence\n",
    "def create_context_words(data,i):\n",
    "  \n",
    "  i=int(i)\n",
    "  line = data [i]\n",
    "  line = line[:-1]\n",
    "  words=line.split()\n",
    "  no_of_words = len(words)\n",
    "  index=0\n",
    "  target_words=[]\n",
    "  context_words=[]\n",
    "  if (no_of_words ==0):\n",
    "    return [],[]\n",
    "  for word in words:\n",
    "    target_word= [0]*vocab_length\n",
    "    target_word[word_to_index[word]]=1\n",
    "    target_words.append(target_word)\n",
    "    context_word=[]\n",
    "    start = index - 1\n",
    "    end = index + 1\n",
    "    for i in range(start,end+1):\n",
    "      if 0<=i<index or index<i<no_of_words:\n",
    "        context_word.append(word_to_index[words[i]])\n",
    "    context_words.append(context_word)\n",
    "    \n",
    "    index=index+1\n",
    "  context_words = sequence.pad_sequences(context_words, maxlen=2)\n",
    "  return context_words,target_words"
   ]
  },
  {
   "cell_type": "markdown",
   "metadata": {
    "id": "5P-O0_zMSR06"
   },
   "source": [
    "## MODEL"
   ]
  },
  {
   "cell_type": "code",
   "execution_count": null,
   "metadata": {
    "colab": {
     "base_uri": "https://localhost:8080/"
    },
    "id": "3rSWW7bF_V7R",
    "outputId": "592dee4b-0b98-46a7-92f7-e5ea9cff90e4"
   },
   "outputs": [
    {
     "data": {
      "text/plain": [
       "10362640"
      ]
     },
     "execution_count": 14,
     "metadata": {},
     "output_type": "execute_result"
    }
   ],
   "source": [
    "len(lines)"
   ]
  },
  {
   "cell_type": "code",
   "execution_count": null,
   "metadata": {
    "id": "92F22l9GSTdx"
   },
   "outputs": [],
   "source": [
    "from keras.layers import Dense, Embedding, Lambda\n",
    "import keras.backend as K\n",
    "from keras.models import Sequential\n",
    "\n",
    "embedding_size=100\n",
    "\n",
    "model = Sequential()\n",
    "\n",
    "model.add ( Embedding(input_dim=vocab_length , output_dim=embedding_size ,input_length=2))\n",
    "model.add ( Lambda(lambda x:K.mean(x, axis=1) , output_shape=(embedding_size,)))\n",
    "model.add ( Dense(vocab_length, activation='softmax'))\n",
    "\n",
    "model.compile(loss='categorical_crossentropy',optimizer='adam')\n"
   ]
  },
  {
   "cell_type": "code",
   "execution_count": null,
   "metadata": {
    "id": "__Tk3UjJ7AMh"
   },
   "outputs": [],
   "source": [
    "for i in range(1):\n",
    "    for j in range(0,100000):\n",
    "      x,y = create_context_words(lines,j)\n",
    "      print(i,j)\n",
    "      if x!=[] and y!=[]:\n",
    "        model.train_on_batch(np.array(x),np.array(y))"
   ]
  },
  {
   "cell_type": "markdown",
   "metadata": {
    "id": "0RwVqdSM28E2"
   },
   "source": [
    "## SAVING MODEL"
   ]
  },
  {
   "cell_type": "code",
   "execution_count": null,
   "metadata": {
    "id": "U_px14G1tfTO"
   },
   "outputs": [],
   "source": [
    "model.save(\"drive/MyDrive/nlpq2(1).h5\")"
   ]
  },
  {
   "cell_type": "code",
   "execution_count": null,
   "metadata": {
    "id": "p7dMiS3Mw8yV"
   },
   "outputs": [],
   "source": [
    "weight_matrix = model.get_weights()[0]\n",
    "weight_matrix = weight_matrix[1:] #remove padding"
   ]
  },
  {
   "cell_type": "code",
   "execution_count": null,
   "metadata": {
    "id": "CziVfy4zclOP"
   },
   "outputs": [],
   "source": [
    "import pickle\n",
    "loc = '/content/drive/MyDrive/weight_matrix_q2(1).pkl'\n",
    "with open(loc, 'wb') as fl:\n",
    " pickle.dump(weight_matrix, fl)"
   ]
  },
  {
   "cell_type": "code",
   "execution_count": null,
   "metadata": {
    "colab": {
     "base_uri": "https://localhost:8080/"
    },
    "id": "fXQcYfXexgv-",
    "outputId": "5f7e24c3-bbf0-4af6-8b26-4fba4c2e8539"
   },
   "outputs": [
    {
     "name": "stdout",
     "output_type": "stream",
     "text": [
      "(70685, 100)\n"
     ]
    }
   ],
   "source": [
    "print(weight_matrix.shape)"
   ]
  },
  {
   "cell_type": "code",
   "execution_count": null,
   "metadata": {
    "id": "lcXpdAPcx_Fk"
   },
   "outputs": [],
   "source": [
    "#csine dist for 60th row with other rows..jo top min/max distance - choose that\n",
    "def cosine_similarity(v1,v2):\n",
    "  result = 1 - spatial.distance.cosine(v1, v2)\n",
    "  return result"
   ]
  },
  {
   "cell_type": "markdown",
   "metadata": {
    "id": "TMJJbQrvhM8L"
   },
   "source": [
    "Display the top-10 word vectors for 5 different words (a combination of nouns,\n",
    "verbs, adjectives etc) using the above pre-trained models (1,2) using t-SNE (or\n",
    "such methods)."
   ]
  },
  {
   "cell_type": "code",
   "execution_count": null,
   "metadata": {
    "id": "HLEK7StuAPTb"
   },
   "outputs": [],
   "source": [
    "words = [\"husband\",\"shipping\",\"truck\",\"road\",\"beautiful\"]"
   ]
  },
  {
   "cell_type": "code",
   "execution_count": null,
   "metadata": {
    "colab": {
     "base_uri": "https://localhost:8080/"
    },
    "id": "lfqawoO8APTe",
    "outputId": "2d425c4a-d742-4e00-ed2d-decea197b460"
   },
   "outputs": [
    {
     "name": "stdout",
     "output_type": "stream",
     "text": [
      "Top 10 closest words for : husband\n",
      "depress\n",
      "okay\n",
      "trendnet\n",
      "news\n",
      "placing\n",
      "booting\n",
      "prices\n",
      "hollow\n",
      "soundtracks\n",
      "hunting\n",
      "---------------------------------------\n",
      "\n"
     ]
    },
    {
     "data": {
      "image/png": "[encoded data removed]",
      "text/plain": [
       "<Figure size 432x288 with 1 Axes>"
      ]
     },
     "metadata": {
      "needs_background": "light"
     },
     "output_type": "display_data"
    }
   ],
   "source": [
    "word = \"husband\"\n",
    "dist_matrix={}\n",
    "x=word_to_index[word]\n",
    "#print(x)\n",
    "dist_matrix[x]=0\n",
    "\n",
    "embedings=[]\n",
    "top_words=[]\n",
    "for i in range(1,70685):  \n",
    "  if i!=x:\n",
    "    dist_matrix[i] = cosine_similarity(weight_matrix[i],weight_matrix[x])\n",
    "\n",
    "TenHighest = nlargest(10, dist_matrix, key = dist_matrix.get)\n",
    "print(\"Top 10 closest words for : \", end = word)\n",
    "print()\n",
    "for val in TenHighest:\n",
    "  print(index_to_words[val])\n",
    "  embedings.append(weight_matrix[val])\n",
    "  top_words.append(val)\n",
    "print(\"---------------------------------------\")\n",
    "print()\n",
    "tsne=TSNE()\n",
    "tsne_list =tsne.fit_transform(embedings)\n",
    "#plotting tsne graph\n",
    "\n",
    "x_coord , y_coord = [] , []\n",
    "\n",
    "tsne_list_size = len(tsne_list) \n",
    "for i in range(0,tsne_list_size):\n",
    "  x_coord.append(tsne_list[i][0])\n",
    "  y_coord.append(tsne_list[i][1])\n",
    "plt.scatter(x_coord, y_coord, c =\"green\")\n",
    "\n",
    "for i in range(0,tsne_list_size):\n",
    "  plt.annotate(index_to_words[top_words[i]], (x_coord[i]+6,y_coord[i]+6))"
   ]
  },
  {
   "cell_type": "code",
   "execution_count": null,
   "metadata": {
    "colab": {
     "base_uri": "https://localhost:8080/"
    },
    "id": "mGJM8o1aXG99",
    "outputId": "85cfe18a-6fcd-4a4f-cb73-04b5cd82433f"
   },
   "outputs": [
    {
     "name": "stdout",
     "output_type": "stream",
     "text": [
      "Top 10 closest words for : shipping\n",
      "highest\n",
      "device\n",
      "able\n",
      "dvi\n",
      "glasses\n",
      "sliding\n",
      "then\n",
      "collapsible\n",
      "vinyl\n",
      "sofa\n",
      "---------------------------------------\n",
      "\n"
     ]
    },
    {
     "data": {
      "image/png": "[encoded data removed]",
      "text/plain": [
       "<Figure size 432x288 with 1 Axes>"
      ]
     },
     "metadata": {
      "needs_background": "light"
     },
     "output_type": "display_data"
    }
   ],
   "source": [
    "word = \"shipping\"\n",
    "dist_matrix={}\n",
    "x=word_to_index[word]\n",
    "#print(x)\n",
    "dist_matrix[x]=0\n",
    "\n",
    "embedings=[]\n",
    "top_words=[]\n",
    "for i in range(1,70685):  \n",
    "  if i!=x:\n",
    "    dist_matrix[i] = cosine_similarity(weight_matrix[i],weight_matrix[x])\n",
    "\n",
    "TenHighest = nlargest(10, dist_matrix, key = dist_matrix.get)\n",
    "print(\"Top 10 closest words for : \", end = word)\n",
    "print()\n",
    "for val in TenHighest:\n",
    "  print(index_to_words[val])\n",
    "  embedings.append(weight_matrix[val])\n",
    "  top_words.append(val)\n",
    "print(\"---------------------------------------\")\n",
    "print()\n",
    "tsne=TSNE()\n",
    "tsne_list =tsne.fit_transform(embedings)\n",
    "#plotting tsne graph\n",
    "\n",
    "x_coord , y_coord = [] , []\n",
    "\n",
    "tsne_list_size = len(tsne_list) \n",
    "for i in range(0,tsne_list_size):\n",
    "  x_coord.append(tsne_list[i][0])\n",
    "  y_coord.append(tsne_list[i][1])\n",
    "plt.scatter(x_coord, y_coord, c =\"green\")\n",
    "\n",
    "for i in range(0,tsne_list_size):\n",
    "  plt.annotate(index_to_words[top_words[i]], (x_coord[i]+6,y_coord[i]+6))"
   ]
  },
  {
   "cell_type": "code",
   "execution_count": null,
   "metadata": {
    "colab": {
     "base_uri": "https://localhost:8080/"
    },
    "id": "tmerhnJEXIIz",
    "outputId": "a3092b7d-3f3b-4542-973c-ea25ecceb0e8"
   },
   "outputs": [
    {
     "name": "stdout",
     "output_type": "stream",
     "text": [
      "Top 10 closest words for : truck\n",
      "repurchase\n",
      "grown\n",
      "tearing\n",
      "yup\n",
      "coolers\n",
      "deformed\n",
      "blueray\n",
      "angles\n",
      "safekeeping\n",
      "transcend\n",
      "---------------------------------------\n",
      "\n"
     ]
    },
    {
     "data": {
      "image/png": "[encoded data removed]",
      "text/plain": [
       "<Figure size 432x288 with 1 Axes>"
      ]
     },
     "metadata": {
      "needs_background": "light"
     },
     "output_type": "display_data"
    }
   ],
   "source": [
    "word = \"truck\"\n",
    "dist_matrix={}\n",
    "x=word_to_index[word]\n",
    "#print(x)\n",
    "dist_matrix[x]=0\n",
    "\n",
    "embedings=[]\n",
    "top_words=[]\n",
    "for i in range(1,70685):  \n",
    "  if i!=x:\n",
    "    dist_matrix[i] = cosine_similarity(weight_matrix[i],weight_matrix[x])\n",
    "\n",
    "TenHighest = nlargest(10, dist_matrix, key = dist_matrix.get)\n",
    "print(\"Top 10 closest words for : \", end = word)\n",
    "print()\n",
    "for val in TenHighest:\n",
    "  print(index_to_words[val])\n",
    "  embedings.append(weight_matrix[val])\n",
    "  top_words.append(val)\n",
    "print(\"---------------------------------------\")\n",
    "print()\n",
    "tsne=TSNE()\n",
    "tsne_list =tsne.fit_transform(embedings)\n",
    "#plotting tsne graph\n",
    "\n",
    "x_coord , y_coord = [] , []\n",
    "\n",
    "tsne_list_size = len(tsne_list) \n",
    "for i in range(0,tsne_list_size):\n",
    "  x_coord.append(tsne_list[i][0])\n",
    "  y_coord.append(tsne_list[i][1])\n",
    "plt.scatter(x_coord, y_coord, c =\"green\")\n",
    "\n",
    "for i in range(0,tsne_list_size):\n",
    "  plt.annotate(index_to_words[top_words[i]], (x_coord[i]+6,y_coord[i]+6))"
   ]
  },
  {
   "cell_type": "code",
   "execution_count": null,
   "metadata": {
    "colab": {
     "base_uri": "https://localhost:8080/"
    },
    "id": "Fs3ATiZHXIos",
    "outputId": "ee2af8e9-a40d-4358-bb6e-fdf5618fcedb"
   },
   "outputs": [
    {
     "name": "stdout",
     "output_type": "stream",
     "text": [
      "Top 10 closest words for : road\n",
      "multiple\n",
      "sensitivity\n",
      "theater\n",
      "make\n",
      "supportive\n",
      "lost\n",
      "superb\n",
      "lane\n",
      "bluetooth\n",
      "stabilization\n",
      "---------------------------------------\n",
      "\n"
     ]
    },
    {
     "data": {
      "image/png": "[encoded data removed]",
      "text/plain": [
       "<Figure size 432x288 with 1 Axes>"
      ]
     },
     "metadata": {
      "needs_background": "light"
     },
     "output_type": "display_data"
    }
   ],
   "source": [
    "word = \"road\"\n",
    "dist_matrix={}\n",
    "x=word_to_index[word]\n",
    "#print(x)\n",
    "dist_matrix[x]=0\n",
    "\n",
    "embedings=[]\n",
    "top_words=[]\n",
    "for i in range(1,70685):  \n",
    "  if i!=x:\n",
    "    dist_matrix[i] = cosine_similarity(weight_matrix[i],weight_matrix[x])\n",
    "\n",
    "TenHighest = nlargest(10, dist_matrix, key = dist_matrix.get)\n",
    "print(\"Top 10 closest words for : \", end = word)\n",
    "print()\n",
    "for val in TenHighest:\n",
    "  print(index_to_words[val])\n",
    "  embedings.append(weight_matrix[val])\n",
    "  top_words.append(val)\n",
    "print(\"---------------------------------------\")\n",
    "print()\n",
    "tsne=TSNE()\n",
    "tsne_list =tsne.fit_transform(embedings)\n",
    "#plotting tsne graph\n",
    "\n",
    "x_coord , y_coord = [] , []\n",
    "\n",
    "tsne_list_size = len(tsne_list) \n",
    "for i in range(0,tsne_list_size):\n",
    "  x_coord.append(tsne_list[i][0])\n",
    "  y_coord.append(tsne_list[i][1])\n",
    "plt.scatter(x_coord, y_coord, c =\"green\")\n",
    "\n",
    "for i in range(0,tsne_list_size):\n",
    "  plt.annotate(index_to_words[top_words[i]], (x_coord[i]+6,y_coord[i]+6))"
   ]
  },
  {
   "cell_type": "code",
   "execution_count": null,
   "metadata": {
    "colab": {
     "base_uri": "https://localhost:8080/"
    },
    "id": "NOmCOQ25XJLu",
    "outputId": "c0c7e5ca-d863-4096-e9cb-31a8cc5777bc"
   },
   "outputs": [
    {
     "name": "stdout",
     "output_type": "stream",
     "text": [
      "Top 10 closest words for : beautiful\n",
      "pixs\n",
      "lifts\n",
      "warnings\n",
      "grown\n",
      "exploring\n",
      "rails\n",
      "investments\n",
      "converters\n",
      "repurchase\n",
      "transcend\n",
      "---------------------------------------\n",
      "\n"
     ]
    },
    {
     "data": {
      "image/png": "[encoded data removed]",
      "text/plain": [
       "<Figure size 432x288 with 1 Axes>"
      ]
     },
     "metadata": {
      "needs_background": "light"
     },
     "output_type": "display_data"
    }
   ],
   "source": [
    "word = \"beautiful\"\n",
    "dist_matrix={}\n",
    "x=word_to_index[word]\n",
    "#print(x)\n",
    "dist_matrix[x]=0\n",
    "\n",
    "embedings=[]\n",
    "top_words=[]\n",
    "for i in range(1,70685):  \n",
    "  if i!=x:\n",
    "    dist_matrix[i] = cosine_similarity(weight_matrix[i],weight_matrix[x])\n",
    "\n",
    "TenHighest = nlargest(10, dist_matrix, key = dist_matrix.get)\n",
    "print(\"Top 10 closest words for : \", end = word)\n",
    "print()\n",
    "for val in TenHighest:\n",
    "  print(index_to_words[val])\n",
    "  embedings.append(weight_matrix[val])\n",
    "  top_words.append(val)\n",
    "print(\"---------------------------------------\")\n",
    "print()\n",
    "tsne=TSNE()\n",
    "tsne_list =tsne.fit_transform(embedings)\n",
    "#plotting tsne graph\n",
    "\n",
    "x_coord , y_coord = [] , []\n",
    "\n",
    "tsne_list_size = len(tsne_list) \n",
    "for i in range(0,tsne_list_size):\n",
    "  x_coord.append(tsne_list[i][0])\n",
    "  y_coord.append(tsne_list[i][1])\n",
    "plt.scatter(x_coord, y_coord, c =\"green\")\n",
    "\n",
    "for i in range(0,tsne_list_size):\n",
    "  plt.annotate(index_to_words[top_words[i]], (x_coord[i]+6,y_coord[i]+6))"
   ]
  },
  {
   "cell_type": "markdown",
   "metadata": {
    "id": "H9Q8G9tghOQX"
   },
   "source": [
    "What are the top 10 closest words for the word ‘camera’ in the embeddings gen-\n",
    "erated by your program. Compare them against the pre-trained word2vec embed-\n",
    "dings that you can download off the shelf (can use gensim)."
   ]
  },
  {
   "cell_type": "code",
   "execution_count": null,
   "metadata": {
    "colab": {
     "base_uri": "https://localhost:8080/"
    },
    "id": "obPwuncUzJ-t",
    "outputId": "296cfda0-f36b-4ffa-f502-d4be8fc368a2"
   },
   "outputs": [
    {
     "name": "stdout",
     "output_type": "stream",
     "text": [
      "Top 10 closest words for 'camera' :\n",
      "\n",
      "makes\n",
      "sharp\n",
      "absolutely\n",
      "cons\n",
      "system\n",
      "hardware\n",
      "duration\n",
      "separate\n",
      "single\n",
      "priced\n"
     ]
    }
   ],
   "source": [
    "dist_matrix={}\n",
    "x=word_to_index['camera']\n",
    "#print(x)\n",
    "dist_matrix[x]=0\n",
    "\n",
    "for i in range(1,70685):  \n",
    "  if i!=x:\n",
    "    dist_matrix[i] = cosine_similarity(weight_matrix[i],weight_matrix[x])\n",
    "\n",
    "from heapq import nlargest\n",
    "TenHighest = nlargest(10, dist_matrix, key = dist_matrix.get)\n",
    "print(\"Top 10 closest words for 'camera' :\")\n",
    "print()\n",
    "for val in TenHighest:\n",
    "    #print(val)\n",
    "    print(index_to_words[val])"
   ]
  },
  {
   "cell_type": "markdown",
   "metadata": {
    "id": "Qoz3cqltBhZ6"
   },
   "source": [
    "## GENSIM WORD2VEC COMPARISON"
   ]
  },
  {
   "cell_type": "code",
   "execution_count": null,
   "metadata": {
    "colab": {
     "base_uri": "https://localhost:8080/"
    },
    "id": "pyZb8MphuEkJ",
    "outputId": "35ce96b4-edd9-41dc-cbd0-363079656a95"
   },
   "outputs": [
    {
     "name": "stdout",
     "output_type": "stream",
     "text": [
      "[==================================================] 100.0% 1662.8/1662.8MB downloaded\n"
     ]
    }
   ],
   "source": [
    "word2vec_vectors = gensim.downloader.load('word2vec-google-news-300')\n",
    "word2vec_vectors.most_similar('camera')"
   ]
  },
  {
   "cell_type": "code",
   "execution_count": null,
   "metadata": {
    "colab": {
     "base_uri": "https://localhost:8080/"
    },
    "id": "Mr7eD-_lbrz-",
    "outputId": "4c9cccc1-b94e-47cb-f856-52721ad4a9df"
   },
   "outputs": [
    {
     "data": {
      "text/plain": [
       "[('cameras', 0.8131939172744751),\n",
       " ('Wagging_finger', 0.7311819791793823),\n",
       " ('camera_lens', 0.7250816822052002),\n",
       " ('camcorder', 0.7037474513053894),\n",
       " ('Camera', 0.6848659515380859),\n",
       " ('Canon_digital_SLR', 0.6474252939224243),\n",
       " ('Cameras', 0.6350969076156616),\n",
       " ('Nikon_D####_digital_SLR', 0.6259366273880005),\n",
       " ('tripod', 0.6189837455749512),\n",
       " ('EyeToy_USB', 0.6173486709594727)]"
      ]
     },
     "execution_count": 2,
     "metadata": {},
     "output_type": "execute_result"
    }
   ],
   "source": [
    "word2vec_vectors.most_similar('camera')"
   ]
  },
  {
   "cell_type": "markdown",
   "metadata": {
    "id": "XkORmLCMWQYq"
   },
   "source": [
    "comparison btw the two :"
   ]
  },
  {
   "cell_type": "markdown",
   "metadata": {
    "id": "TfodCGntWM1L"
   },
   "source": [
    "comparison btw the two : the words are not the same, but the words predicted by word emebedding model using svd still returns words similar to the target word \"camera\""
   ]
  }
 ],
 "metadata": {
  "colab": {
   "collapsed_sections": [],
   "name": "Word2vec using CBOW.ipynb",
   "provenance": []
  },
  "kernelspec": {
   "display_name": "Python 3",
   "language": "python",
   "name": "python3"
  },
  "language_info": {
   "codemirror_mode": {
    "name": "ipython",
    "version": 3
   },
   "file_extension": ".py",
   "mimetype": "text/x-python",
   "name": "python",
   "nbconvert_exporter": "python",
   "pygments_lexer": "ipython3",
   "version": "3.8.10"
  }
 },
 "nbformat": 4,
 "nbformat_minor": 1
}
